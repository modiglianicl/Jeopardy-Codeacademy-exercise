{
 "cells": [
  {
   "cell_type": "markdown",
   "metadata": {},
   "source": [
    "# This is Jeopardy!"
   ]
  },
  {
   "cell_type": "markdown",
   "metadata": {},
   "source": [
    "#### Project Goals"
   ]
  },
  {
   "cell_type": "markdown",
   "metadata": {},
   "source": [
    "You will work to write several functions that investigate a dataset of _Jeopardy!_ questions and answers. Filter the dataset for topics that you're interested in, compute the average difficulty of those questions, and train to become the next Jeopardy champion!"
   ]
  },
  {
   "cell_type": "markdown",
   "metadata": {},
   "source": [
    "## Project Requirements"
   ]
  },
  {
   "cell_type": "markdown",
   "metadata": {},
   "source": [
    "1. We've provided a csv file containing data about the game show _Jeopardy!_ in a file named `jeopardy.csv`. Load the data into a DataFrame and investigate its contents. Try to print out specific columns.\n",
    "\n",
    "   Note that in order to make this project as \"real-world\" as possible, we haven't modified the data at all - we're giving it to you exactly how we found it. As a result, this data isn't as \"clean\" as the datasets you normally find on Codecademy. More specifically, there's something odd about the column names. After you figure out the problem with the column names, you may want to rename them to make your life easier for the rest of the project.\n",
    "   \n",
    "   In order to display the full contents of a column, we've added this line of code for you:\n",
    "   \n",
    "   ```py\n",
    "   pd.set_option('display.max_colwidth', None)\n",
    "   ```"
   ]
  },
  {
   "cell_type": "code",
   "execution_count": 3,
   "metadata": {},
   "outputs": [
    {
     "name": "stdout",
     "output_type": "stream",
     "text": [
      "<class 'pandas.core.frame.DataFrame'>\n",
      "RangeIndex: 216930 entries, 0 to 216929\n",
      "Data columns (total 7 columns):\n",
      " #   Column       Non-Null Count   Dtype         \n",
      "---  ------       --------------   -----         \n",
      " 0   Show Number  216930 non-null  int64         \n",
      " 1   Air Date     216930 non-null  datetime64[ns]\n",
      " 2   Round        216930 non-null  object        \n",
      " 3   Category     216930 non-null  object        \n",
      " 4   Value        216930 non-null  object        \n",
      " 5   Question     216930 non-null  object        \n",
      " 6   Answer       216928 non-null  object        \n",
      "dtypes: datetime64[ns](1), int64(1), object(5)\n",
      "memory usage: 11.6+ MB\n"
     ]
    }
   ],
   "source": [
    "from pydoc import describe\n",
    "import pandas as pd\n",
    "pd.set_option('display.max_colwidth', None)\n",
    "\n",
    "jeopardy_data = pd.read_csv('jeopardy.csv',\n",
    "                            parse_dates=[1])\n",
    "\n",
    "\n",
    "#Cleaning column names!!\n",
    "notclean_names = jeopardy_data.columns.values.tolist() #List of column names, some have white spaces on them!\n",
    "\n",
    "jeopardy_data.columns = [c.strip() for c in jeopardy_data.columns.values.tolist()]\n",
    "\n",
    "jeopardy_data.info()\n",
    "\n"
   ]
  },
  {
   "cell_type": "markdown",
   "metadata": {},
   "source": [
    "2. Write a function that filters the dataset for questions that contains all of the words in a list of words. For example, when the list `[\"King\", \"England\"]` was passed to our function, the function returned a DataFrame of 49 rows. Every row had the strings `\"King\"` and `\"England\"` somewhere in its `\" Question\"`.\n",
    "\n",
    "   Test your function by printing out the column containing the question of each row of the dataset."
   ]
  },
  {
   "cell_type": "code",
   "execution_count": 5,
   "metadata": {},
   "outputs": [
    {
     "data": {
      "text/html": [
       "<div>\n",
       "<style scoped>\n",
       "    .dataframe tbody tr th:only-of-type {\n",
       "        vertical-align: middle;\n",
       "    }\n",
       "\n",
       "    .dataframe tbody tr th {\n",
       "        vertical-align: top;\n",
       "    }\n",
       "\n",
       "    .dataframe thead th {\n",
       "        text-align: right;\n",
       "    }\n",
       "</style>\n",
       "<table border=\"1\" class=\"dataframe\">\n",
       "  <thead>\n",
       "    <tr style=\"text-align: right;\">\n",
       "      <th></th>\n",
       "      <th>Show Number</th>\n",
       "      <th>Air Date</th>\n",
       "      <th>Round</th>\n",
       "      <th>Category</th>\n",
       "      <th>Value</th>\n",
       "      <th>Question</th>\n",
       "      <th>Answer</th>\n",
       "    </tr>\n",
       "  </thead>\n",
       "  <tbody>\n",
       "    <tr>\n",
       "      <th>4953</th>\n",
       "      <td>3003</td>\n",
       "      <td>1997-09-24</td>\n",
       "      <td>Double Jeopardy!</td>\n",
       "      <td>\"PH\"UN WORDS</td>\n",
       "      <td>$200</td>\n",
       "      <td>Both England's King George V &amp; FDR put their stamp of approval on this \"King of Hobbies\"</td>\n",
       "      <td>Philately (stamp collecting)</td>\n",
       "    </tr>\n",
       "    <tr>\n",
       "      <th>6337</th>\n",
       "      <td>3517</td>\n",
       "      <td>1999-12-14</td>\n",
       "      <td>Double Jeopardy!</td>\n",
       "      <td>Y1K</td>\n",
       "      <td>$800</td>\n",
       "      <td>In retaliation for Viking raids, this \"Unready\" king of England attacks Norse areas of the Isle of Man</td>\n",
       "      <td>Ethelred</td>\n",
       "    </tr>\n",
       "    <tr>\n",
       "      <th>9191</th>\n",
       "      <td>3907</td>\n",
       "      <td>2001-09-04</td>\n",
       "      <td>Double Jeopardy!</td>\n",
       "      <td>WON THE BATTLE</td>\n",
       "      <td>$800</td>\n",
       "      <td>This king of England beat the odds to trounce the French in the 1415 Battle of Agincourt</td>\n",
       "      <td>Henry V</td>\n",
       "    </tr>\n",
       "    <tr>\n",
       "      <th>11710</th>\n",
       "      <td>2903</td>\n",
       "      <td>1997-03-26</td>\n",
       "      <td>Double Jeopardy!</td>\n",
       "      <td>BRITISH MONARCHS</td>\n",
       "      <td>$600</td>\n",
       "      <td>This Scotsman, the first Stuart king of England, was called \"The Wisest Fool in Christendom\"</td>\n",
       "      <td>James I</td>\n",
       "    </tr>\n",
       "    <tr>\n",
       "      <th>13454</th>\n",
       "      <td>4726</td>\n",
       "      <td>2005-03-07</td>\n",
       "      <td>Jeopardy!</td>\n",
       "      <td>A NUMBER FROM 1 TO 10</td>\n",
       "      <td>$1000</td>\n",
       "      <td>It's the number that followed the last king of England named William</td>\n",
       "      <td>4</td>\n",
       "    </tr>\n",
       "    <tr>\n",
       "      <th>...</th>\n",
       "      <td>...</td>\n",
       "      <td>...</td>\n",
       "      <td>...</td>\n",
       "      <td>...</td>\n",
       "      <td>...</td>\n",
       "      <td>...</td>\n",
       "      <td>...</td>\n",
       "    </tr>\n",
       "    <tr>\n",
       "      <th>208295</th>\n",
       "      <td>4621</td>\n",
       "      <td>2004-10-11</td>\n",
       "      <td>Jeopardy!</td>\n",
       "      <td>THE VIKINGS</td>\n",
       "      <td>$600</td>\n",
       "      <td>In 1066 this great-great grandson of Rollo made what some call the last Viking invasion of England</td>\n",
       "      <td>William the Conqueror</td>\n",
       "    </tr>\n",
       "    <tr>\n",
       "      <th>208742</th>\n",
       "      <td>4863</td>\n",
       "      <td>2005-11-02</td>\n",
       "      <td>Double Jeopardy!</td>\n",
       "      <td>BEFORE &amp; AFTER</td>\n",
       "      <td>$3,000</td>\n",
       "      <td>Dutch-born king who ruled England jointly with Mary II &amp; is a tasty New Zealand fish</td>\n",
       "      <td>William of Orange roughy</td>\n",
       "    </tr>\n",
       "    <tr>\n",
       "      <th>213870</th>\n",
       "      <td>5856</td>\n",
       "      <td>2010-02-15</td>\n",
       "      <td>Double Jeopardy!</td>\n",
       "      <td>URANUS</td>\n",
       "      <td>$1600</td>\n",
       "      <td>In 1781 William Herschel discovered Uranus &amp; initially named it after this king of England</td>\n",
       "      <td>George III</td>\n",
       "    </tr>\n",
       "    <tr>\n",
       "      <th>216021</th>\n",
       "      <td>1881</td>\n",
       "      <td>1992-11-09</td>\n",
       "      <td>Double Jeopardy!</td>\n",
       "      <td>HISTORIC NAMES</td>\n",
       "      <td>$1000</td>\n",
       "      <td>His nickname was \"Bertie\", but he used this name &amp; number when he became king of England in 1901</td>\n",
       "      <td>Edward VII</td>\n",
       "    </tr>\n",
       "    <tr>\n",
       "      <th>216789</th>\n",
       "      <td>5070</td>\n",
       "      <td>2006-09-29</td>\n",
       "      <td>Double Jeopardy!</td>\n",
       "      <td>ANCIENT HISTORY</td>\n",
       "      <td>$1200</td>\n",
       "      <td>This kingdom of England grew from 2 settlements, one founded around 495 by Cerdic &amp; his son Cynric</td>\n",
       "      <td>Wessex</td>\n",
       "    </tr>\n",
       "  </tbody>\n",
       "</table>\n",
       "<p>152 rows × 7 columns</p>\n",
       "</div>"
      ],
      "text/plain": [
       "        Show Number   Air Date             Round               Category  \\\n",
       "4953           3003 1997-09-24  Double Jeopardy!           \"PH\"UN WORDS   \n",
       "6337           3517 1999-12-14  Double Jeopardy!                    Y1K   \n",
       "9191           3907 2001-09-04  Double Jeopardy!         WON THE BATTLE   \n",
       "11710          2903 1997-03-26  Double Jeopardy!       BRITISH MONARCHS   \n",
       "13454          4726 2005-03-07         Jeopardy!  A NUMBER FROM 1 TO 10   \n",
       "...             ...        ...               ...                    ...   \n",
       "208295         4621 2004-10-11         Jeopardy!            THE VIKINGS   \n",
       "208742         4863 2005-11-02  Double Jeopardy!         BEFORE & AFTER   \n",
       "213870         5856 2010-02-15  Double Jeopardy!                 URANUS   \n",
       "216021         1881 1992-11-09  Double Jeopardy!         HISTORIC NAMES   \n",
       "216789         5070 2006-09-29  Double Jeopardy!        ANCIENT HISTORY   \n",
       "\n",
       "         Value  \\\n",
       "4953      $200   \n",
       "6337      $800   \n",
       "9191      $800   \n",
       "11710     $600   \n",
       "13454    $1000   \n",
       "...        ...   \n",
       "208295    $600   \n",
       "208742  $3,000   \n",
       "213870   $1600   \n",
       "216021   $1000   \n",
       "216789   $1200   \n",
       "\n",
       "                                                                                                      Question  \\\n",
       "4953                  Both England's King George V & FDR put their stamp of approval on this \"King of Hobbies\"   \n",
       "6337    In retaliation for Viking raids, this \"Unready\" king of England attacks Norse areas of the Isle of Man   \n",
       "9191                  This king of England beat the odds to trounce the French in the 1415 Battle of Agincourt   \n",
       "11710             This Scotsman, the first Stuart king of England, was called \"The Wisest Fool in Christendom\"   \n",
       "13454                                     It's the number that followed the last king of England named William   \n",
       "...                                                                                                        ...   \n",
       "208295      In 1066 this great-great grandson of Rollo made what some call the last Viking invasion of England   \n",
       "208742                    Dutch-born king who ruled England jointly with Mary II & is a tasty New Zealand fish   \n",
       "213870              In 1781 William Herschel discovered Uranus & initially named it after this king of England   \n",
       "216021        His nickname was \"Bertie\", but he used this name & number when he became king of England in 1901   \n",
       "216789      This kingdom of England grew from 2 settlements, one founded around 495 by Cerdic & his son Cynric   \n",
       "\n",
       "                              Answer  \n",
       "4953    Philately (stamp collecting)  \n",
       "6337                        Ethelred  \n",
       "9191                         Henry V  \n",
       "11710                        James I  \n",
       "13454                              4  \n",
       "...                              ...  \n",
       "208295         William the Conqueror  \n",
       "208742      William of Orange roughy  \n",
       "213870                    George III  \n",
       "216021                    Edward VII  \n",
       "216789                        Wessex  \n",
       "\n",
       "[152 rows x 7 columns]"
      ]
     },
     "execution_count": 5,
     "metadata": {},
     "output_type": "execute_result"
    }
   ],
   "source": [
    "from pickle import FALSE\n",
    "\n",
    "def questioner(*keyword):\n",
    "    wordlist = []\n",
    "    for k in keyword:\n",
    "        wordlist.append(k)\n",
    "    filter = lambda x : all(w.lower() in x.lower() for w in wordlist)\n",
    "    filtered_data= jeopardy_data[jeopardy_data['Question'].apply(filter)]\n",
    "    return filtered_data\n",
    "\n",
    "filtered_data = questioner(\"king\",\"england\")\n",
    "filtered_data"
   ]
  },
  {
   "cell_type": "markdown",
   "metadata": {},
   "source": [
    "3. Test your original function with a few different sets of words to try to find some ways your function breaks. Edit your function so it is more robust.\n",
    "\n",
    "   For example, think about capitalization. We probably want to find questions that contain the word `\"King\"` or `\"king\"`.\n",
    "   \n",
    "   You may also want to check to make sure you don't find rows that contain substrings of your given words. For example, our function found a question that didn't contain the word `\"king\"`, however it did contain the word `\"viking\"` &mdash; it found the `\"king\"` inside `\"viking\"`. Note that this also comes with some drawbacks &mdash; you would no longer find questions that contained words like `\"England's\"`."
   ]
  },
  {
   "cell_type": "markdown",
   "metadata": {},
   "source": [
    "4. We may want to eventually compute aggregate statistics, like `.mean()` on the `\" Value\"` column. But right now, the values in that column are strings. Convert the`\" Value\"` column to floats. If you'd like to, you can create a new column with float values.\n",
    "\n",
    "   Now that you can filter the dataset of question, use your new column that contains the float values of each question to find the \"difficulty\" of certain topics. For example, what is the average value of questions that contain the word `\"King\"`?\n",
    "   \n",
    "   Make sure to use the dataset that contains the float values as the dataset you use in your filtering function."
   ]
  },
  {
   "cell_type": "code",
   "execution_count": null,
   "metadata": {},
   "outputs": [],
   "source": [
    "float_value = lambda x : float(x[1:].replace(',','')) if x != \"None\" else 0\n",
    "\n",
    "jeopardy_data['Value'] = jeopardy_data['Value'].apply(float_value)\n",
    "jeopardy_data.head(5)\n",
    "\n"
   ]
  },
  {
   "cell_type": "code",
   "execution_count": 162,
   "metadata": {},
   "outputs": [
    {
     "data": {
      "text/plain": [
       "886.8421052631579"
      ]
     },
     "execution_count": 162,
     "metadata": {},
     "output_type": "execute_result"
    }
   ],
   "source": [
    "#Mean value for filtered data that comes from the 'questioneer' function\n",
    "\n",
    "filtered_data['Value'].mean()"
   ]
  },
  {
   "cell_type": "markdown",
   "metadata": {},
   "source": [
    "5. Write a function that returns the count of unique answers to all of the questions in a dataset. For example, after filtering the entire dataset to only questions containing the word `\"King\"`, we could then find all of the unique answers to those questions. The answer \"Henry VIII\" appeared 55 times and was the most common answer."
   ]
  },
  {
   "cell_type": "code",
   "execution_count": 158,
   "metadata": {},
   "outputs": [
    {
     "name": "stdout",
     "output_type": "stream",
     "text": [
      "This questions contains 114 answers!\n"
     ]
    },
    {
     "data": {
      "text/html": [
       "<div>\n",
       "<style scoped>\n",
       "    .dataframe tbody tr th:only-of-type {\n",
       "        vertical-align: middle;\n",
       "    }\n",
       "\n",
       "    .dataframe tbody tr th {\n",
       "        vertical-align: top;\n",
       "    }\n",
       "\n",
       "    .dataframe thead th {\n",
       "        text-align: right;\n",
       "    }\n",
       "</style>\n",
       "<table border=\"1\" class=\"dataframe\">\n",
       "  <thead>\n",
       "    <tr style=\"text-align: right;\">\n",
       "      <th></th>\n",
       "      <th>Answer</th>\n",
       "    </tr>\n",
       "  </thead>\n",
       "  <tbody>\n",
       "    <tr>\n",
       "      <th>0</th>\n",
       "      <td>Philately (stamp collecting)</td>\n",
       "    </tr>\n",
       "    <tr>\n",
       "      <th>1</th>\n",
       "      <td>Ethelred</td>\n",
       "    </tr>\n",
       "    <tr>\n",
       "      <th>2</th>\n",
       "      <td>Henry V</td>\n",
       "    </tr>\n",
       "    <tr>\n",
       "      <th>3</th>\n",
       "      <td>James I</td>\n",
       "    </tr>\n",
       "    <tr>\n",
       "      <th>4</th>\n",
       "      <td>4</td>\n",
       "    </tr>\n",
       "    <tr>\n",
       "      <th>...</th>\n",
       "      <td>...</td>\n",
       "    </tr>\n",
       "    <tr>\n",
       "      <th>109</th>\n",
       "      <td>Wales</td>\n",
       "    </tr>\n",
       "    <tr>\n",
       "      <th>110</th>\n",
       "      <td>King John</td>\n",
       "    </tr>\n",
       "    <tr>\n",
       "      <th>111</th>\n",
       "      <td>The Little Prince of Wales</td>\n",
       "    </tr>\n",
       "    <tr>\n",
       "      <th>112</th>\n",
       "      <td>Captain Jenkins</td>\n",
       "    </tr>\n",
       "    <tr>\n",
       "      <th>113</th>\n",
       "      <td>William of Orange roughy</td>\n",
       "    </tr>\n",
       "  </tbody>\n",
       "</table>\n",
       "<p>114 rows × 1 columns</p>\n",
       "</div>"
      ],
      "text/plain": [
       "                           Answer\n",
       "0    Philately (stamp collecting)\n",
       "1                        Ethelred\n",
       "2                         Henry V\n",
       "3                         James I\n",
       "4                               4\n",
       "..                            ...\n",
       "109                         Wales\n",
       "110                     King John\n",
       "111    The Little Prince of Wales\n",
       "112               Captain Jenkins\n",
       "113      William of Orange roughy\n",
       "\n",
       "[114 rows x 1 columns]"
      ]
     },
     "execution_count": 158,
     "metadata": {},
     "output_type": "execute_result"
    }
   ],
   "source": [
    "def n_answers(data):\n",
    "    print(f\"This questions contains {data['Answer'].nunique()} answers!\")\n",
    "    return pd.DataFrame(data['Answer'].unique(),\n",
    "                        columns=['Answer'])\n",
    "\n",
    "n_answers(filtered_data)"
   ]
  },
  {
   "cell_type": "markdown",
   "metadata": {},
   "source": [
    "6. Explore from here! This is an incredibly rich dataset, and there are so many interesting things to discover. There are a few columns that we haven't even started looking at yet. Here are some ideas on ways to continue working with this data:\n",
    "\n",
    " * Investigate the ways in which questions change over time by filtering by the date. How many questions from the 90s use the word `\"Computer\"` compared to questions from the 2000s?\n",
    " * Is there a connection between the round and the category? Are you more likely to find certain categories, like `\"Literature\"` in Single Jeopardy or Double Jeopardy?\n",
    " * Build a system to quiz yourself. Grab random questions, and use the <a href=\"https://docs.python.org/3/library/functions.html#input\">input</a> function to get a response from the user. Check to see if that response was right or wrong."
   ]
  },
  {
   "cell_type": "code",
   "execution_count": 174,
   "metadata": {},
   "outputs": [
    {
     "data": {
      "text/plain": [
       "214.4230769230769"
      ]
     },
     "execution_count": 174,
     "metadata": {},
     "output_type": "execute_result"
    }
   ],
   "source": [
    "computer_jeopardy = questioner(\"Computer\")\n",
    "#We filter for years less than 2000 and count them\n",
    "old_shows = computer_jeopardy[computer_jeopardy['Air Date'].dt.year < 2000]['Show Number'].count()\n",
    "\n",
    "#We filter for years less or equal to 2000 and count them\n",
    "\n",
    "modern_shows = computer_jeopardy[computer_jeopardy['Air Date'].dt.year >= 2000]['Show Number'].count()\n",
    "\n",
    "#Percentage difference\n",
    "\n",
    "(modern_shows - old_shows) / old_shows *100\n",
    "\n",
    "## There was a 214% increase in the word computer in questions!!!"
   ]
  }
 ],
 "metadata": {
  "kernelspec": {
   "display_name": "Python 3.8.2 64-bit",
   "language": "python",
   "name": "python3"
  },
  "language_info": {
   "codemirror_mode": {
    "name": "ipython",
    "version": 3
   },
   "file_extension": ".py",
   "mimetype": "text/x-python",
   "name": "python",
   "nbconvert_exporter": "python",
   "pygments_lexer": "ipython3",
   "version": "3.8.2"
  },
  "vscode": {
   "interpreter": {
    "hash": "570feb405e2e27c949193ac68f46852414290d515b0ba6e5d90d076ed2284471"
   }
  }
 },
 "nbformat": 4,
 "nbformat_minor": 2
}
